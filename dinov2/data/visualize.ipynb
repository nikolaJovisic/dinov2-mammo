{
 "cells": [
  {
   "cell_type": "code",
   "execution_count": 1,
   "id": "6de8fe40",
   "metadata": {},
   "outputs": [
    {
     "name": "stdout",
     "output_type": "stream",
     "text": [
      "The history saving thread hit an unexpected error (DatabaseError('database disk image is malformed')).History will not be written to the database.\n"
     ]
    },
    {
     "name": "stderr",
     "output_type": "stream",
     "text": [
      "/usr/local/lib/python3.10/dist-packages/torchvision/io/image.py:13: UserWarning: Failed to load image Python extension: '/usr/local/lib/python3.10/dist-packages/torchvision/image.so: undefined symbol: _ZN3c1017RegisterOperatorsD1Ev'If you don't plan on using image functionality from `torchvision.io`, you can ignore this warning. Otherwise, there might be something wrong with your environment. Did you have `libjpeg` or `libpng` installed before building `torchvision` from source?\n",
      "  warn(\n",
      "/home/nikola.jovisic.ivi/.local/lib/python3.10/site-packages/_distutils_hack/__init__.py:53: UserWarning: Reliance on distutils from stdlib is deprecated. Users must rely on setuptools to provide the distutils module. Avoid importing distutils or import setuptools first, and avoid setting SETUPTOOLS_USE_DISTUTILS=stdlib. Register concerns at https://github.com/pypa/setuptools/issues/new?template=distutils-deprecation.yml\n",
      "  warnings.warn(\n"
     ]
    }
   ],
   "source": [
    "import sys\n",
    "sys.path.append('../..')\n",
    "from datasets_shim import *\n",
    "\n",
    "import numpy as np\n",
    "import matplotlib.pyplot as plt\n",
    "\n",
    "from augmentations import DataAugmentationDINO\n",
    "from torch.utils.data import DataLoader"
   ]
  },
  {
   "cell_type": "code",
   "execution_count": 2,
   "id": "d4e43aee",
   "metadata": {},
   "outputs": [
    {
     "name": "stdout",
     "output_type": "stream",
     "text": [
      "Dataset embed initialized with 218598 rows.\n",
      "Dataset embed initialized with 31571 rows.\n",
      "Dataset embed initialized with 10922 rows.\n",
      "Dataset embed initialized with 1467 rows.\n",
      "Unified dataset initialized with 299725 rows.\n",
      "0020001022002200022200120000200200000000320000000302100200020000000100201000000001200120000002000000000100021203020000002030013001000020000010200010000000000003000000020000022000000000000102000200000000000000000020200101000221001003210003103100002000011001100000020000000000120300000200010000000002000021020000200030003000200010210000022010000020000000022001020000220000200000002000000120002000000020000000200100001002002100020202000030010200000020000011000002000000030000010000000112310020202010202020200000030000012000"
     ]
    },
    {
     "name": "stderr",
     "output_type": "stream",
     "text": [
      "Process Process-17:\n",
      "Traceback (most recent call last):\n",
      "  File \"/usr/lib/python3.10/multiprocessing/process.py\", line 314, in _bootstrap\n",
      "    self.run()\n",
      "  File \"/usr/lib/python3.10/multiprocessing/process.py\", line 108, in run\n",
      "    self._target(*self._args, **self._kwargs)\n",
      "  File \"/home/nikola.jovisic.ivi/.local/lib/python3.10/site-packages/torch/utils/data/_utils/worker.py\", line 372, in _worker_loop\n",
      "    if done_event.is_set():\n",
      "  File \"/usr/lib/python3.10/multiprocessing/synchronize.py\", line 327, in is_set\n",
      "    def is_set(self):\n",
      "KeyboardInterrupt\n",
      "\n",
      "KeyboardInterrupt\n",
      "\n",
      "Traceback (most recent call last):\n",
      "  File \"/usr/lib/python3.10/runpy.py\", line 196, in _run_module_as_main\n",
      "    return _run_code(code, main_globals, None,\n",
      "  File \"/usr/lib/python3.10/runpy.py\", line 86, in _run_code\n",
      "    exec(code, run_globals)\n",
      "  File \"/usr/local/lib/python3.10/dist-packages/ipykernel_launcher.py\", line 17, in <module>\n",
      "    app.launch_new_instance()\n",
      "  File \"/usr/local/lib/python3.10/dist-packages/traitlets/config/application.py\", line 1043, in launch_instance\n",
      "    app.start()\n",
      "  File \"/usr/local/lib/python3.10/dist-packages/ipykernel/kernelapp.py\", line 736, in start\n",
      "    self.io_loop.start()\n",
      "  File \"/usr/local/lib/python3.10/dist-packages/tornado/platform/asyncio.py\", line 195, in start\n",
      "    self.asyncio_loop.run_forever()\n",
      "  File \"/usr/lib/python3.10/asyncio/base_events.py\", line 603, in run_forever\n",
      "    self._run_once()\n",
      "  File \"/usr/lib/python3.10/asyncio/base_events.py\", line 1871, in _run_once\n",
      "    event_list = self._selector.select(timeout)\n",
      "  File \"/usr/lib/python3.10/selectors.py\", line 469, in select\n",
      "    fd_event_list = self._selector.poll(timeout, max_ev)\n",
      "  File \"/home/nikola.jovisic.ivi/.local/lib/python3.10/site-packages/torch/utils/data/_utils/signal_handling.py\", line 73, in handler\n",
      "    _error_if_any_worker_fails()\n",
      "RuntimeError: DataLoader worker (pid 24500) exited unexpectedly with exit code 1. Details are lost due to multiprocessing. Rerunning with num_workers=0 may give better error trace.\n",
      "Exception ignored in atexit callback: <bound method InteractiveShell.atexit_operations of <ipykernel.zmqshell.ZMQInteractiveShell object at 0x7ffff4d51450>>\n",
      "Traceback (most recent call last):\n",
      "  File \"/home/nikola.jovisic.ivi/.local/lib/python3.10/site-packages/IPython/core/interactiveshell.py\", line 3875, in atexit_operations\n",
      "    self._atexit_once()\n",
      "  File \"/home/nikola.jovisic.ivi/.local/lib/python3.10/site-packages/IPython/core/interactiveshell.py\", line 3858, in _atexit_once\n",
      "    self.history_manager.end_session()\n",
      "  File \"/home/nikola.jovisic.ivi/.local/lib/python3.10/site-packages/IPython/core/history.py\", line 579, in end_session\n",
      "    self.writeout_cache()\n",
      "  File \"/usr/local/lib/python3.10/dist-packages/decorator.py\", line 232, in fun\n",
      "    return caller(func, *(extras + args), **kw)\n",
      "  File \"/home/nikola.jovisic.ivi/.local/lib/python3.10/site-packages/IPython/core/history.py\", line 60, in only_when_enabled\n",
      "    return f(self, *a, **kw)\n",
      "  File \"/home/nikola.jovisic.ivi/.local/lib/python3.10/site-packages/IPython/core/history.py\", line 834, in writeout_cache\n",
      "    self._writeout_input_cache(conn)\n",
      "  File \"/home/nikola.jovisic.ivi/.local/lib/python3.10/site-packages/IPython/core/history.py\", line 817, in _writeout_input_cache\n",
      "    conn.execute(\"INSERT INTO history VALUES (?, ?, ?, ?)\",\n",
      "sqlite3.DatabaseError: database disk image is malformed\n"
     ]
    }
   ],
   "source": [
    "from mammo_datasets.datasets.embed import EMBEDSpecifics\n",
    "\n",
    "transform = DataAugmentationDINO(global_crops_scale=(0.5, 1.0), \n",
    "                                 local_crops_scale=(0.01, 0.35), \n",
    "                                 local_crops_number=8,\n",
    "                                 normalization=EMBEDSpecifics().normalization_stats)\n",
    "\n",
    "ds = UnifiedDataset([MammoDataset(transform=transform, split='train'), \n",
    "                     MammoDataset(transform=transform, split='valid'), \n",
    "                     MammoDataset(transform=transform, split='train', labels=[3, 4, 5, 6]), \n",
    "                     MammoDataset(transform=transform, split='valid', labels=[3, 4, 5, 6])],\n",
    "                     cycles=[1, 1, 4, 4])\n",
    "\n",
    "\n",
    "\n",
    "loader = DataLoader(ds, batch_size=None, num_workers=30)\n",
    "\n",
    "def show_tensor_image(tensor, title):\n",
    "    npimg = tensor.permute(1, 2, 0).numpy()\n",
    "    npimg = np.clip(npimg * 0.224 + 0.456, 0, 1)\n",
    "    plt.imshow(npimg)\n",
    "    plt.title(title)\n",
    "    plt.axis(\"off\")\n",
    "\n",
    "for image in loader:\n",
    "    all_images = image[\"global_crops\"] + image[\"local_crops\"]\n",
    "\n",
    "    plt.figure(figsize=(20, 8))\n",
    "\n",
    "    for i, crop in enumerate(all_images):\n",
    "        plt.subplot(2, 5, i + 1)\n",
    "        title = f\"Global Crop {i+1}\" if i < 2 else f\"Local Crop {i - 1}\"\n",
    "        show_tensor_image(crop, title)\n",
    "\n",
    "    plt.tight_layout()\n",
    "    plt.show()\n"
   ]
  }
 ],
 "metadata": {
  "kernelspec": {
   "display_name": "Python 3 (ipykernel)",
   "language": "python",
   "name": "python3"
  },
  "language_info": {
   "codemirror_mode": {
    "name": "ipython",
    "version": 3
   },
   "file_extension": ".py",
   "mimetype": "text/x-python",
   "name": "python",
   "nbconvert_exporter": "python",
   "pygments_lexer": "ipython3",
   "version": "3.10.12"
  }
 },
 "nbformat": 4,
 "nbformat_minor": 5
}
